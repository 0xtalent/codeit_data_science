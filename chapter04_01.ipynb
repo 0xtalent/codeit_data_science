{
 "nbformat": 4,
 "nbformat_minor": 2,
 "metadata": {
  "language_info": {
   "name": "python",
   "codemirror_mode": {
    "name": "ipython",
    "version": 3
   },
   "version": "3.7.3-final"
  },
  "orig_nbformat": 2,
  "file_extension": ".py",
  "mimetype": "text/x-python",
  "name": "python",
  "npconvert_exporter": "python",
  "pygments_lexer": "ipython3",
  "version": 3,
  "kernelspec": {
   "name": "python37364bita3e12f640f614f2090cd561a2944ef04",
   "display_name": "Python 3.7.3 64-bit"
  }
 },
 "cells": [
  {
   "cell_type": "code",
   "execution_count": 6,
   "metadata": {},
   "outputs": [],
   "source": [
    "import pandas as pd"
   ]
  },
  {
   "cell_type": "code",
   "execution_count": 7,
   "metadata": {},
   "outputs": [],
   "source": [
    "iphone_df = pd.read_csv(r'C:\\Users\\hayong\\Downloads\\iphone.csv', index_col=0)"
   ]
  },
  {
   "cell_type": "code",
   "execution_count": 8,
   "metadata": {},
   "outputs": [
    {
     "data": {
      "text/html": "<div>\n<style scoped>\n    .dataframe tbody tr th:only-of-type {\n        vertical-align: middle;\n    }\n\n    .dataframe tbody tr th {\n        vertical-align: top;\n    }\n\n    .dataframe thead th {\n        text-align: right;\n    }\n</style>\n<table border=\"1\" class=\"dataframe\">\n  <thead>\n    <tr style=\"text-align: right;\">\n      <th></th>\n      <th>출시일</th>\n      <th>디스플레이</th>\n      <th>메모리</th>\n      <th>출시 버전</th>\n      <th>Face ID</th>\n    </tr>\n  </thead>\n  <tbody>\n    <tr>\n      <th>iPhone 7</th>\n      <td>2016-09-16</td>\n      <td>4.7</td>\n      <td>2GB</td>\n      <td>iOS 10.0</td>\n      <td>No</td>\n    </tr>\n    <tr>\n      <th>iPhone 7 Plus</th>\n      <td>2016-09-16</td>\n      <td>5.5</td>\n      <td>3GB</td>\n      <td>iOS 10.0</td>\n      <td>No</td>\n    </tr>\n    <tr>\n      <th>iPhone 8</th>\n      <td>2017-09-22</td>\n      <td>4.7</td>\n      <td>2GB</td>\n      <td>iOS 11.0</td>\n      <td>No</td>\n    </tr>\n    <tr>\n      <th>iPhone 8 Plus</th>\n      <td>2017-09-22</td>\n      <td>5.5</td>\n      <td>3GB</td>\n      <td>iOS 11.0</td>\n      <td>No</td>\n    </tr>\n    <tr>\n      <th>iPhone X</th>\n      <td>2017-11-03</td>\n      <td>5.8</td>\n      <td>3GB</td>\n      <td>iOS 11.1</td>\n      <td>Yes</td>\n    </tr>\n    <tr>\n      <th>iPhone XS</th>\n      <td>2018-09-21</td>\n      <td>5.8</td>\n      <td>4GB</td>\n      <td>iOS 12.0</td>\n      <td>Yes</td>\n    </tr>\n    <tr>\n      <th>iPhone XS Max</th>\n      <td>2018-09-21</td>\n      <td>6.5</td>\n      <td>4GB</td>\n      <td>iOS 12.0</td>\n      <td>Yes</td>\n    </tr>\n  </tbody>\n</table>\n</div>",
      "text/plain": "                      출시일  디스플레이  메모리     출시 버전 Face ID\niPhone 7       2016-09-16    4.7  2GB  iOS 10.0      No\niPhone 7 Plus  2016-09-16    5.5  3GB  iOS 10.0      No\niPhone 8       2017-09-22    4.7  2GB  iOS 11.0      No\niPhone 8 Plus  2017-09-22    5.5  3GB  iOS 11.0      No\niPhone X       2017-11-03    5.8  3GB  iOS 11.1     Yes\niPhone XS      2018-09-21    5.8  4GB  iOS 12.0     Yes\niPhone XS Max  2018-09-21    6.5  4GB  iOS 12.0     Yes"
     },
     "execution_count": 8,
     "metadata": {},
     "output_type": "execute_result"
    }
   ],
   "source": [
    "iphone_df"
   ]
  },
  {
   "cell_type": "code",
   "execution_count": 9,
   "metadata": {},
   "outputs": [],
   "source": [
    "# 이거 사이즈 키워려면 어떻게 해요\n",
    "# 와 VSCODE에서 주피터 노트북 쓰니까 진짜 너무 좋아"
   ]
  },
  {
   "cell_type": "code",
   "execution_count": 10,
   "metadata": {},
   "outputs": [
    {
     "data": {
      "text/plain": "iPhone 7         False\niPhone 7 Plus     True\niPhone 8         False\niPhone 8 Plus     True\niPhone X          True\niPhone XS         True\niPhone XS Max     True\nName: 디스플레이, dtype: bool"
     },
     "execution_count": 10,
     "metadata": {},
     "output_type": "execute_result"
    }
   ],
   "source": [
    "iphone_df['디스플레이'] > 5"
   ]
  },
  {
   "cell_type": "code",
   "execution_count": 11,
   "metadata": {},
   "outputs": [
    {
     "data": {
      "text/html": "<div>\n<style scoped>\n    .dataframe tbody tr th:only-of-type {\n        vertical-align: middle;\n    }\n\n    .dataframe tbody tr th {\n        vertical-align: top;\n    }\n\n    .dataframe thead th {\n        text-align: right;\n    }\n</style>\n<table border=\"1\" class=\"dataframe\">\n  <thead>\n    <tr style=\"text-align: right;\">\n      <th></th>\n      <th>출시일</th>\n      <th>디스플레이</th>\n      <th>메모리</th>\n      <th>출시 버전</th>\n      <th>Face ID</th>\n    </tr>\n  </thead>\n  <tbody>\n    <tr>\n      <th>iPhone 7 Plus</th>\n      <td>2016-09-16</td>\n      <td>5.5</td>\n      <td>3GB</td>\n      <td>iOS 10.0</td>\n      <td>No</td>\n    </tr>\n    <tr>\n      <th>iPhone 8 Plus</th>\n      <td>2017-09-22</td>\n      <td>5.5</td>\n      <td>3GB</td>\n      <td>iOS 11.0</td>\n      <td>No</td>\n    </tr>\n    <tr>\n      <th>iPhone X</th>\n      <td>2017-11-03</td>\n      <td>5.8</td>\n      <td>3GB</td>\n      <td>iOS 11.1</td>\n      <td>Yes</td>\n    </tr>\n    <tr>\n      <th>iPhone XS</th>\n      <td>2018-09-21</td>\n      <td>5.8</td>\n      <td>4GB</td>\n      <td>iOS 12.0</td>\n      <td>Yes</td>\n    </tr>\n    <tr>\n      <th>iPhone XS Max</th>\n      <td>2018-09-21</td>\n      <td>6.5</td>\n      <td>4GB</td>\n      <td>iOS 12.0</td>\n      <td>Yes</td>\n    </tr>\n  </tbody>\n</table>\n</div>",
      "text/plain": "                      출시일  디스플레이  메모리     출시 버전 Face ID\niPhone 7 Plus  2016-09-16    5.5  3GB  iOS 10.0      No\niPhone 8 Plus  2017-09-22    5.5  3GB  iOS 11.0      No\niPhone X       2017-11-03    5.8  3GB  iOS 11.1     Yes\niPhone XS      2018-09-21    5.8  4GB  iOS 12.0     Yes\niPhone XS Max  2018-09-21    6.5  4GB  iOS 12.0     Yes"
     },
     "execution_count": 11,
     "metadata": {},
     "output_type": "execute_result"
    }
   ],
   "source": [
    "iphone_df.loc[iphone_df['디스플레이'] > 5]"
   ]
  },
  {
   "cell_type": "code",
   "execution_count": 12,
   "metadata": {},
   "outputs": [
    {
     "data": {
      "text/html": "<div>\n<style scoped>\n    .dataframe tbody tr th:only-of-type {\n        vertical-align: middle;\n    }\n\n    .dataframe tbody tr th {\n        vertical-align: top;\n    }\n\n    .dataframe thead th {\n        text-align: right;\n    }\n</style>\n<table border=\"1\" class=\"dataframe\">\n  <thead>\n    <tr style=\"text-align: right;\">\n      <th></th>\n      <th>출시일</th>\n      <th>디스플레이</th>\n      <th>메모리</th>\n      <th>출시 버전</th>\n      <th>Face ID</th>\n    </tr>\n  </thead>\n  <tbody>\n    <tr>\n      <th>iPhone 7</th>\n      <td>2016-09-16</td>\n      <td>4.7</td>\n      <td>2GB</td>\n      <td>iOS 10.0</td>\n      <td>No</td>\n    </tr>\n    <tr>\n      <th>iPhone 7 Plus</th>\n      <td>p</td>\n      <td>p</td>\n      <td>p</td>\n      <td>p</td>\n      <td>p</td>\n    </tr>\n    <tr>\n      <th>iPhone 8</th>\n      <td>2017-09-22</td>\n      <td>4.7</td>\n      <td>2GB</td>\n      <td>iOS 11.0</td>\n      <td>No</td>\n    </tr>\n    <tr>\n      <th>iPhone 8 Plus</th>\n      <td>p</td>\n      <td>p</td>\n      <td>p</td>\n      <td>p</td>\n      <td>p</td>\n    </tr>\n    <tr>\n      <th>iPhone X</th>\n      <td>p</td>\n      <td>p</td>\n      <td>p</td>\n      <td>p</td>\n      <td>p</td>\n    </tr>\n    <tr>\n      <th>iPhone XS</th>\n      <td>p</td>\n      <td>p</td>\n      <td>p</td>\n      <td>p</td>\n      <td>p</td>\n    </tr>\n    <tr>\n      <th>iPhone XS Max</th>\n      <td>p</td>\n      <td>p</td>\n      <td>p</td>\n      <td>p</td>\n      <td>p</td>\n    </tr>\n  </tbody>\n</table>\n</div>",
      "text/plain": "                      출시일 디스플레이  메모리     출시 버전 Face ID\niPhone 7       2016-09-16   4.7  2GB  iOS 10.0      No\niPhone 7 Plus           p     p    p         p       p\niPhone 8       2017-09-22   4.7  2GB  iOS 11.0      No\niPhone 8 Plus           p     p    p         p       p\niPhone X                p     p    p         p       p\niPhone XS               p     p    p         p       p\niPhone XS Max           p     p    p         p       p"
     },
     "execution_count": 12,
     "metadata": {},
     "output_type": "execute_result"
    }
   ],
   "source": [
    "iphone_df.loc[iphone_df['디스플레이'] > 5] = 'p'\n",
    "iphone_df"
   ]
  },
  {
   "cell_type": "code",
   "execution_count": 13,
   "metadata": {},
   "outputs": [
    {
     "data": {
      "text/html": "<div>\n<style scoped>\n    .dataframe tbody tr th:only-of-type {\n        vertical-align: middle;\n    }\n\n    .dataframe tbody tr th {\n        vertical-align: top;\n    }\n\n    .dataframe thead th {\n        text-align: right;\n    }\n</style>\n<table border=\"1\" class=\"dataframe\">\n  <thead>\n    <tr style=\"text-align: right;\">\n      <th></th>\n      <th>디스플레이</th>\n      <th>Face ID</th>\n    </tr>\n  </thead>\n  <tbody>\n    <tr>\n      <th>iPhone 7 Plus</th>\n      <td>p</td>\n      <td>p</td>\n    </tr>\n    <tr>\n      <th>iPhone 8 Plus</th>\n      <td>p</td>\n      <td>p</td>\n    </tr>\n  </tbody>\n</table>\n</div>",
      "text/plain": "              디스플레이 Face ID\niPhone 7 Plus     p       p\niPhone 8 Plus     p       p"
     },
     "execution_count": 13,
     "metadata": {},
     "output_type": "execute_result"
    }
   ],
   "source": [
    "iphone_df.iloc[[1, 3], [1, 4]]"
   ]
  },
  {
   "cell_type": "code",
   "execution_count": 14,
   "metadata": {},
   "outputs": [
    {
     "data": {
      "text/html": "<div>\n<style scoped>\n    .dataframe tbody tr th:only-of-type {\n        vertical-align: middle;\n    }\n\n    .dataframe tbody tr th {\n        vertical-align: top;\n    }\n\n    .dataframe thead th {\n        text-align: right;\n    }\n</style>\n<table border=\"1\" class=\"dataframe\">\n  <thead>\n    <tr style=\"text-align: right;\">\n      <th></th>\n      <th>출시일</th>\n      <th>디스플레이</th>\n      <th>메모리</th>\n      <th>출시 버전</th>\n      <th>Face ID</th>\n    </tr>\n  </thead>\n  <tbody>\n    <tr>\n      <th>iPhone 7</th>\n      <td>2016-09-16</td>\n      <td>4.7</td>\n      <td>2GB</td>\n      <td>iOS 10.0</td>\n      <td>No</td>\n    </tr>\n    <tr>\n      <th>iPhone 7 Plus</th>\n      <td>p</td>\n      <td>v</td>\n      <td>p</td>\n      <td>p</td>\n      <td>v</td>\n    </tr>\n    <tr>\n      <th>iPhone 8</th>\n      <td>2017-09-22</td>\n      <td>4.7</td>\n      <td>2GB</td>\n      <td>iOS 11.0</td>\n      <td>No</td>\n    </tr>\n    <tr>\n      <th>iPhone 8 Plus</th>\n      <td>p</td>\n      <td>v</td>\n      <td>p</td>\n      <td>p</td>\n      <td>v</td>\n    </tr>\n    <tr>\n      <th>iPhone X</th>\n      <td>p</td>\n      <td>p</td>\n      <td>p</td>\n      <td>p</td>\n      <td>p</td>\n    </tr>\n    <tr>\n      <th>iPhone XS</th>\n      <td>p</td>\n      <td>p</td>\n      <td>p</td>\n      <td>p</td>\n      <td>p</td>\n    </tr>\n    <tr>\n      <th>iPhone XS Max</th>\n      <td>p</td>\n      <td>p</td>\n      <td>p</td>\n      <td>p</td>\n      <td>p</td>\n    </tr>\n  </tbody>\n</table>\n</div>",
      "text/plain": "                      출시일 디스플레이  메모리     출시 버전 Face ID\niPhone 7       2016-09-16   4.7  2GB  iOS 10.0      No\niPhone 7 Plus           p     v    p         p       v\niPhone 8       2017-09-22   4.7  2GB  iOS 11.0      No\niPhone 8 Plus           p     v    p         p       v\niPhone X                p     p    p         p       p\niPhone XS               p     p    p         p       p\niPhone XS Max           p     p    p         p       p"
     },
     "execution_count": 14,
     "metadata": {},
     "output_type": "execute_result"
    }
   ],
   "source": [
    "iphone_df.iloc[[1, 3], [1, 4]] = 'v'\n",
    "iphone_df"
   ]
  }
 ]
}