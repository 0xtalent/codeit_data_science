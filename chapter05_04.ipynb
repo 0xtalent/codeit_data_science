{
 "nbformat": 4,
 "nbformat_minor": 2,
 "metadata": {
  "language_info": {
   "name": "python",
   "codemirror_mode": {
    "name": "ipython",
    "version": 3
   },
   "version": "3.7.3-final"
  },
  "orig_nbformat": 2,
  "file_extension": ".py",
  "mimetype": "text/x-python",
  "name": "python",
  "npconvert_exporter": "python",
  "pygments_lexer": "ipython3",
  "version": 3,
  "kernelspec": {
   "name": "python37364bita3e12f640f614f2090cd561a2944ef04",
   "display_name": "Python 3.7.3 64-bit"
  }
 },
 "cells": [
  {
   "cell_type": "code",
   "execution_count": 12,
   "metadata": {},
   "outputs": [],
   "source": [
    "%matplotlib inline\n",
    "\n",
    "import pandas as pd"
   ]
  },
  {
   "cell_type": "code",
   "execution_count": 13,
   "metadata": {},
   "outputs": [],
   "source": [
    "df = pd.read_csv(r'C:\\Users\\hayong\\Downloads\\silicon_valley_details.csv', index_col=0)"
   ]
  },
  {
   "cell_type": "code",
   "execution_count": 14,
   "metadata": {},
   "outputs": [
    {
     "data": {
      "text/html": "<div>\n<style scoped>\n    .dataframe tbody tr th:only-of-type {\n        vertical-align: middle;\n    }\n\n    .dataframe tbody tr th {\n        vertical-align: top;\n    }\n\n    .dataframe thead th {\n        text-align: right;\n    }\n</style>\n<table border=\"1\" class=\"dataframe\">\n  <thead>\n    <tr style=\"text-align: right;\">\n      <th></th>\n      <th>year</th>\n      <th>race</th>\n      <th>gender</th>\n      <th>job_category</th>\n      <th>count</th>\n    </tr>\n    <tr>\n      <th>company</th>\n      <th></th>\n      <th></th>\n      <th></th>\n      <th></th>\n      <th></th>\n    </tr>\n  </thead>\n  <tbody>\n    <tr>\n      <th>23andMe</th>\n      <td>2016</td>\n      <td>Hispanic_or_Latino</td>\n      <td>male</td>\n      <td>Executives</td>\n      <td>0</td>\n    </tr>\n    <tr>\n      <th>23andMe</th>\n      <td>2016</td>\n      <td>Hispanic_or_Latino</td>\n      <td>male</td>\n      <td>Managers</td>\n      <td>1</td>\n    </tr>\n    <tr>\n      <th>23andMe</th>\n      <td>2016</td>\n      <td>Hispanic_or_Latino</td>\n      <td>male</td>\n      <td>Professionals</td>\n      <td>7</td>\n    </tr>\n    <tr>\n      <th>23andMe</th>\n      <td>2016</td>\n      <td>Hispanic_or_Latino</td>\n      <td>male</td>\n      <td>Technicians</td>\n      <td>0</td>\n    </tr>\n    <tr>\n      <th>23andMe</th>\n      <td>2016</td>\n      <td>Hispanic_or_Latino</td>\n      <td>male</td>\n      <td>Sales workers</td>\n      <td>0</td>\n    </tr>\n    <tr>\n      <th>...</th>\n      <td>...</td>\n      <td>...</td>\n      <td>...</td>\n      <td>...</td>\n      <td>...</td>\n    </tr>\n    <tr>\n      <th>Sanmina</th>\n      <td>2016</td>\n      <td>Overall_totals</td>\n      <td>NaN</td>\n      <td>laborers and helpers</td>\n      <td>4</td>\n    </tr>\n    <tr>\n      <th>Sanmina</th>\n      <td>2016</td>\n      <td>Overall_totals</td>\n      <td>NaN</td>\n      <td>Service workers</td>\n      <td>57</td>\n    </tr>\n    <tr>\n      <th>Sanmina</th>\n      <td>2016</td>\n      <td>Overall_totals</td>\n      <td>NaN</td>\n      <td>Totals</td>\n      <td>5205</td>\n    </tr>\n    <tr>\n      <th>Sanmina</th>\n      <td>2016</td>\n      <td>Overall_totals</td>\n      <td>NaN</td>\n      <td>Previous_totals</td>\n      <td>5615</td>\n    </tr>\n    <tr>\n      <th>Sanmina</th>\n      <td>2016</td>\n      <td>Overall_totals</td>\n      <td>NaN</td>\n      <td>Managers</td>\n      <td>591</td>\n    </tr>\n  </tbody>\n</table>\n<p>4440 rows × 5 columns</p>\n</div>",
      "text/plain": "         year                race gender          job_category  count\ncompany                                                              \n23andMe  2016  Hispanic_or_Latino   male            Executives      0\n23andMe  2016  Hispanic_or_Latino   male              Managers      1\n23andMe  2016  Hispanic_or_Latino   male         Professionals      7\n23andMe  2016  Hispanic_or_Latino   male           Technicians      0\n23andMe  2016  Hispanic_or_Latino   male         Sales workers      0\n...       ...                 ...    ...                   ...    ...\nSanmina  2016      Overall_totals    NaN  laborers and helpers      4\nSanmina  2016      Overall_totals    NaN       Service workers     57\nSanmina  2016      Overall_totals    NaN                Totals   5205\nSanmina  2016      Overall_totals    NaN       Previous_totals   5615\nSanmina  2016      Overall_totals    NaN              Managers    591\n\n[4440 rows x 5 columns]"
     },
     "execution_count": 14,
     "metadata": {},
     "output_type": "execute_result"
    }
   ],
   "source": [
    "df"
   ]
  }
 ]
}