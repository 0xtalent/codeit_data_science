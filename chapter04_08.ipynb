{
 "nbformat": 4,
 "nbformat_minor": 2,
 "metadata": {
  "language_info": {
   "name": "python",
   "codemirror_mode": {
    "name": "ipython",
    "version": 3
   },
   "version": "3.7.3-final"
  },
  "orig_nbformat": 2,
  "file_extension": ".py",
  "mimetype": "text/x-python",
  "name": "python",
  "npconvert_exporter": "python",
  "pygments_lexer": "ipython3",
  "version": 3,
  "kernelspec": {
   "name": "python37364bita3e12f640f614f2090cd561a2944ef04",
   "display_name": "Python 3.7.3 64-bit"
  }
 },
 "cells": [
  {
   "cell_type": "code",
   "execution_count": 1,
   "metadata": {},
   "outputs": [
    {
     "data": {
      "text/html": "<div>\n<style scoped>\n    .dataframe tbody tr th:only-of-type {\n        vertical-align: middle;\n    }\n\n    .dataframe tbody tr th {\n        vertical-align: top;\n    }\n\n    .dataframe thead th {\n        text-align: right;\n    }\n</style>\n<table border=\"1\" class=\"dataframe\">\n  <thead>\n    <tr style=\"text-align: right;\">\n      <th></th>\n      <th>Unnamed: 0</th>\n      <th>City / Urban area</th>\n      <th>Country</th>\n      <th>Population</th>\n      <th>Land area (in sqKm)</th>\n    </tr>\n  </thead>\n  <tbody>\n    <tr>\n      <th>0</th>\n      <td>0</td>\n      <td>Buenos Aires</td>\n      <td>Argentina</td>\n      <td>11200000</td>\n      <td>2266</td>\n    </tr>\n    <tr>\n      <th>1</th>\n      <td>1</td>\n      <td>Melbourne</td>\n      <td>Australia</td>\n      <td>3162000</td>\n      <td>2080</td>\n    </tr>\n    <tr>\n      <th>2</th>\n      <td>2</td>\n      <td>Sydney</td>\n      <td>Australia</td>\n      <td>3502000</td>\n      <td>1687</td>\n    </tr>\n    <tr>\n      <th>3</th>\n      <td>3</td>\n      <td>Brisbane</td>\n      <td>Australia</td>\n      <td>1508000</td>\n      <td>1603</td>\n    </tr>\n    <tr>\n      <th>4</th>\n      <td>4</td>\n      <td>Perth</td>\n      <td>Australia</td>\n      <td>1177000</td>\n      <td>964</td>\n    </tr>\n    <tr>\n      <th>...</th>\n      <td>...</td>\n      <td>...</td>\n      <td>...</td>\n      <td>...</td>\n      <td>...</td>\n    </tr>\n    <tr>\n      <th>244</th>\n      <td>245</td>\n      <td>Canton</td>\n      <td>USA</td>\n      <td>267000</td>\n      <td>372</td>\n    </tr>\n    <tr>\n      <th>245</th>\n      <td>246</td>\n      <td>Spokane</td>\n      <td>USA</td>\n      <td>335000</td>\n      <td>371</td>\n    </tr>\n    <tr>\n      <th>246</th>\n      <td>247</td>\n      <td>Tashkent</td>\n      <td>Uzbekistan</td>\n      <td>2200000</td>\n      <td>531</td>\n    </tr>\n    <tr>\n      <th>247</th>\n      <td>248</td>\n      <td>Ho Chi Minh City</td>\n      <td>Vietnam</td>\n      <td>4900000</td>\n      <td>518</td>\n    </tr>\n    <tr>\n      <th>248</th>\n      <td>249</td>\n      <td>Harare</td>\n      <td>Zimbabwe</td>\n      <td>1750000</td>\n      <td>712</td>\n    </tr>\n  </tbody>\n</table>\n<p>249 rows × 5 columns</p>\n</div>",
      "text/plain": "     Unnamed: 0 City / Urban area     Country  Population  Land area (in sqKm)\n0             0      Buenos Aires   Argentina    11200000                 2266\n1             1         Melbourne   Australia     3162000                 2080\n2             2            Sydney   Australia     3502000                 1687\n3             3          Brisbane   Australia     1508000                 1603\n4             4             Perth   Australia     1177000                  964\n..          ...               ...         ...         ...                  ...\n244         245            Canton         USA      267000                  372\n245         246           Spokane         USA      335000                  371\n246         247          Tashkent  Uzbekistan     2200000                  531\n247         248  Ho Chi Minh City     Vietnam     4900000                  518\n248         249            Harare    Zimbabwe     1750000                  712\n\n[249 rows x 5 columns]"
     },
     "execution_count": 1,
     "metadata": {},
     "output_type": "execute_result"
    }
   ],
   "source": [
    "import pandas as pd\n",
    "df = pd.read_csv(r'C:\\Users\\hayong\\Downloads\\world_cities.csv')\n",
    "df"
   ]
  },
  {
   "cell_type": "code",
   "execution_count": 3,
   "metadata": {},
   "outputs": [
    {
     "data": {
      "text/html": "<div>\n<style scoped>\n    .dataframe tbody tr th:only-of-type {\n        vertical-align: middle;\n    }\n\n    .dataframe tbody tr th {\n        vertical-align: top;\n    }\n\n    .dataframe thead th {\n        text-align: right;\n    }\n</style>\n<table border=\"1\" class=\"dataframe\">\n  <thead>\n    <tr style=\"text-align: right;\">\n      <th></th>\n      <th>City / Urban area</th>\n      <th>Country</th>\n    </tr>\n  </thead>\n  <tbody>\n    <tr>\n      <th>count</th>\n      <td>249</td>\n      <td>249</td>\n    </tr>\n    <tr>\n      <th>unique</th>\n      <td>249</td>\n      <td>61</td>\n    </tr>\n    <tr>\n      <th>top</th>\n      <td>Tel Aviv</td>\n      <td>USA</td>\n    </tr>\n    <tr>\n      <th>freq</th>\n      <td>1</td>\n      <td>105</td>\n    </tr>\n  </tbody>\n</table>\n</div>",
      "text/plain": "       City / Urban area Country\ncount                249     249\nunique               249      61\ntop             Tel Aviv     USA\nfreq                   1     105"
     },
     "execution_count": 3,
     "metadata": {},
     "output_type": "execute_result"
    }
   ],
   "source": [
    "df[['City / Urban area', 'Country']].describe()"
   ]
  },
  {
   "cell_type": "code",
   "execution_count": 15,
   "metadata": {},
   "outputs": [
    {
     "data": {
      "text/html": "<div>\n<style scoped>\n    .dataframe tbody tr th:only-of-type {\n        vertical-align: middle;\n    }\n\n    .dataframe tbody tr th {\n        vertical-align: top;\n    }\n\n    .dataframe thead th {\n        text-align: right;\n    }\n</style>\n<table border=\"1\" class=\"dataframe\">\n  <thead>\n    <tr style=\"text-align: right;\">\n      <th></th>\n      <th>Unnamed: 0</th>\n      <th>City / Urban area</th>\n      <th>Country</th>\n      <th>Population</th>\n      <th>Land area (in sqKm)</th>\n    </tr>\n  </thead>\n  <tbody>\n    <tr>\n      <th>32</th>\n      <td>32</td>\n      <td>Beijing</td>\n      <td>China</td>\n      <td>8614000</td>\n      <td>748</td>\n    </tr>\n    <tr>\n      <th>33</th>\n      <td>33</td>\n      <td>Shanghai</td>\n      <td>China</td>\n      <td>10000000</td>\n      <td>746</td>\n    </tr>\n    <tr>\n      <th>34</th>\n      <td>34</td>\n      <td>Shenzhen</td>\n      <td>China</td>\n      <td>8000000</td>\n      <td>466</td>\n    </tr>\n    <tr>\n      <th>36</th>\n      <td>36</td>\n      <td>Tianjin</td>\n      <td>China</td>\n      <td>4750000</td>\n      <td>453</td>\n    </tr>\n    <tr>\n      <th>38</th>\n      <td>38</td>\n      <td>Bogota</td>\n      <td>Colombia</td>\n      <td>7000000</td>\n      <td>518</td>\n    </tr>\n    <tr>\n      <th>39</th>\n      <td>39</td>\n      <td>Kinshasa</td>\n      <td>Congo</td>\n      <td>5000000</td>\n      <td>469</td>\n    </tr>\n    <tr>\n      <th>71</th>\n      <td>71</td>\n      <td>Delhi</td>\n      <td>India</td>\n      <td>14300000</td>\n      <td>1295</td>\n    </tr>\n    <tr>\n      <th>73</th>\n      <td>73</td>\n      <td>Bangalore</td>\n      <td>India</td>\n      <td>5400000</td>\n      <td>534</td>\n    </tr>\n    <tr>\n      <th>74</th>\n      <td>74</td>\n      <td>Kolkata</td>\n      <td>India</td>\n      <td>12700000</td>\n      <td>531</td>\n    </tr>\n    <tr>\n      <th>75</th>\n      <td>75</td>\n      <td>Mumbai</td>\n      <td>India</td>\n      <td>14350000</td>\n      <td>484</td>\n    </tr>\n    <tr>\n      <th>76</th>\n      <td>76</td>\n      <td>Chennai</td>\n      <td>India</td>\n      <td>5950000</td>\n      <td>414</td>\n    </tr>\n    <tr>\n      <th>77</th>\n      <td>77</td>\n      <td>Jakarta</td>\n      <td>Indonesia</td>\n      <td>14250000</td>\n      <td>1360</td>\n    </tr>\n    <tr>\n      <th>78</th>\n      <td>78</td>\n      <td>Tehran</td>\n      <td>Iran</td>\n      <td>7250000</td>\n      <td>686</td>\n    </tr>\n    <tr>\n      <th>99</th>\n      <td>99</td>\n      <td>Lagos</td>\n      <td>Nigeria</td>\n      <td>13400000</td>\n      <td>738</td>\n    </tr>\n    <tr>\n      <th>101</th>\n      <td>101</td>\n      <td>Karachi</td>\n      <td>Pakistan</td>\n      <td>9800000</td>\n      <td>518</td>\n    </tr>\n    <tr>\n      <th>102</th>\n      <td>102</td>\n      <td>Lima</td>\n      <td>Peru</td>\n      <td>7000000</td>\n      <td>596</td>\n    </tr>\n    <tr>\n      <th>103</th>\n      <td>103</td>\n      <td>Manila</td>\n      <td>Philippines</td>\n      <td>14750000</td>\n      <td>1399</td>\n    </tr>\n    <tr>\n      <th>123</th>\n      <td>123</td>\n      <td>Seoul/Incheon</td>\n      <td>South Korea</td>\n      <td>17500000</td>\n      <td>1049</td>\n    </tr>\n    <tr>\n      <th>129</th>\n      <td>129</td>\n      <td>Taipei</td>\n      <td>Taiwan</td>\n      <td>5700000</td>\n      <td>376</td>\n    </tr>\n  </tbody>\n</table>\n</div>",
      "text/plain": "     Unnamed: 0 City / Urban area      Country  Population  \\\n32           32           Beijing        China     8614000   \n33           33          Shanghai        China    10000000   \n34           34          Shenzhen        China     8000000   \n36           36           Tianjin        China     4750000   \n38           38            Bogota     Colombia     7000000   \n39           39          Kinshasa        Congo     5000000   \n71           71             Delhi        India    14300000   \n73           73         Bangalore        India     5400000   \n74           74           Kolkata        India    12700000   \n75           75            Mumbai        India    14350000   \n76           76           Chennai        India     5950000   \n77           77           Jakarta    Indonesia    14250000   \n78           78            Tehran         Iran     7250000   \n99           99             Lagos      Nigeria    13400000   \n101         101           Karachi     Pakistan     9800000   \n102         102              Lima         Peru     7000000   \n103         103            Manila  Philippines    14750000   \n123         123     Seoul/Incheon  South Korea    17500000   \n129         129            Taipei       Taiwan     5700000   \n\n     Land area (in sqKm)  \n32                   748  \n33                   746  \n34                   466  \n36                   453  \n38                   518  \n39                   469  \n71                  1295  \n73                   534  \n74                   531  \n75                   484  \n76                   414  \n77                  1360  \n78                   686  \n99                   738  \n101                  518  \n102                  596  \n103                 1399  \n123                 1049  \n129                  376  "
     },
     "execution_count": 15,
     "metadata": {},
     "output_type": "execute_result"
    }
   ],
   "source": [
    "df.loc[df[\"Population\"] / df[\"Land area (in sqKm)\"] > 10000]\n",
    "# 이렇게 하면 하나씩 다 세야되구요"
   ]
  },
  {
   "cell_type": "code",
   "execution_count": 16,
   "metadata": {},
   "outputs": [],
   "source": [
    "df[\"Density\"] = df[\"Population\"] / df[\"Land area (in sqKm)\"]"
   ]
  },
  {
   "cell_type": "code",
   "execution_count": 17,
   "metadata": {},
   "outputs": [],
   "source": [
    "df_high_density = df[df[\"Density\"] > 10000]"
   ]
  },
  {
   "cell_type": "code",
   "execution_count": 18,
   "metadata": {},
   "outputs": [
    {
     "name": "stdout",
     "output_type": "stream",
     "text": "<class 'pandas.core.frame.DataFrame'>\nInt64Index: 19 entries, 32 to 129\nData columns (total 6 columns):\n #   Column               Non-Null Count  Dtype  \n---  ------               --------------  -----  \n 0   Unnamed: 0           19 non-null     int64  \n 1   City / Urban area    19 non-null     object \n 2   Country              19 non-null     object \n 3   Population           19 non-null     int64  \n 4   Land area (in sqKm)  19 non-null     int64  \n 5   Density              19 non-null     float64\ndtypes: float64(1), int64(3), object(2)\nmemory usage: 1.0+ KB\n"
    }
   ],
   "source": [
    "df_high_density .info()"
   ]
  },
  {
   "cell_type": "code",
   "execution_count": 23,
   "metadata": {},
   "outputs": [
    {
     "data": {
      "text/html": "<div>\n<style scoped>\n    .dataframe tbody tr th:only-of-type {\n        vertical-align: middle;\n    }\n\n    .dataframe tbody tr th {\n        vertical-align: top;\n    }\n\n    .dataframe thead th {\n        text-align: right;\n    }\n</style>\n<table border=\"1\" class=\"dataframe\">\n  <thead>\n    <tr style=\"text-align: right;\">\n      <th></th>\n      <th>Unnamed: 0</th>\n      <th>City / Urban area</th>\n      <th>Country</th>\n      <th>Population</th>\n      <th>Land area (in sqKm)</th>\n      <th>Density</th>\n    </tr>\n  </thead>\n  <tbody>\n    <tr>\n      <th>0</th>\n      <td>0</td>\n      <td>Buenos Aires</td>\n      <td>Argentina</td>\n      <td>11200000</td>\n      <td>2266</td>\n      <td>4942.630185</td>\n    </tr>\n    <tr>\n      <th>1</th>\n      <td>1</td>\n      <td>Melbourne</td>\n      <td>Australia</td>\n      <td>3162000</td>\n      <td>2080</td>\n      <td>1520.192308</td>\n    </tr>\n    <tr>\n      <th>2</th>\n      <td>2</td>\n      <td>Sydney</td>\n      <td>Australia</td>\n      <td>3502000</td>\n      <td>1687</td>\n      <td>2075.874333</td>\n    </tr>\n    <tr>\n      <th>3</th>\n      <td>3</td>\n      <td>Brisbane</td>\n      <td>Australia</td>\n      <td>1508000</td>\n      <td>1603</td>\n      <td>940.736120</td>\n    </tr>\n    <tr>\n      <th>4</th>\n      <td>4</td>\n      <td>Perth</td>\n      <td>Australia</td>\n      <td>1177000</td>\n      <td>964</td>\n      <td>1220.954357</td>\n    </tr>\n    <tr>\n      <th>...</th>\n      <td>...</td>\n      <td>...</td>\n      <td>...</td>\n      <td>...</td>\n      <td>...</td>\n      <td>...</td>\n    </tr>\n    <tr>\n      <th>244</th>\n      <td>245</td>\n      <td>Canton</td>\n      <td>USA</td>\n      <td>267000</td>\n      <td>372</td>\n      <td>717.741935</td>\n    </tr>\n    <tr>\n      <th>245</th>\n      <td>246</td>\n      <td>Spokane</td>\n      <td>USA</td>\n      <td>335000</td>\n      <td>371</td>\n      <td>902.964960</td>\n    </tr>\n    <tr>\n      <th>246</th>\n      <td>247</td>\n      <td>Tashkent</td>\n      <td>Uzbekistan</td>\n      <td>2200000</td>\n      <td>531</td>\n      <td>4143.126177</td>\n    </tr>\n    <tr>\n      <th>247</th>\n      <td>248</td>\n      <td>Ho Chi Minh City</td>\n      <td>Vietnam</td>\n      <td>4900000</td>\n      <td>518</td>\n      <td>9459.459459</td>\n    </tr>\n    <tr>\n      <th>248</th>\n      <td>249</td>\n      <td>Harare</td>\n      <td>Zimbabwe</td>\n      <td>1750000</td>\n      <td>712</td>\n      <td>2457.865169</td>\n    </tr>\n  </tbody>\n</table>\n<p>249 rows × 6 columns</p>\n</div>",
      "text/plain": "     Unnamed: 0 City / Urban area     Country  Population  \\\n0             0      Buenos Aires   Argentina    11200000   \n1             1         Melbourne   Australia     3162000   \n2             2            Sydney   Australia     3502000   \n3             3          Brisbane   Australia     1508000   \n4             4             Perth   Australia     1177000   \n..          ...               ...         ...         ...   \n244         245            Canton         USA      267000   \n245         246           Spokane         USA      335000   \n246         247          Tashkent  Uzbekistan     2200000   \n247         248  Ho Chi Minh City     Vietnam     4900000   \n248         249            Harare    Zimbabwe     1750000   \n\n     Land area (in sqKm)      Density  \n0                   2266  4942.630185  \n1                   2080  1520.192308  \n2                   1687  2075.874333  \n3                   1603   940.736120  \n4                    964  1220.954357  \n..                   ...          ...  \n244                  372   717.741935  \n245                  371   902.964960  \n246                  531  4143.126177  \n247                  518  9459.459459  \n248                  712  2457.865169  \n\n[249 rows x 6 columns]"
     },
     "execution_count": 23,
     "metadata": {},
     "output_type": "execute_result"
    }
   ],
   "source": [
    "df[\"Density\"] = df[\"Population\"] / df[\"Land area (in sqKm)\"]\n",
    "df"
   ]
  },
  {
   "cell_type": "code",
   "execution_count": 24,
   "metadata": {},
   "outputs": [
    {
     "data": {
      "text/html": "<div>\n<style scoped>\n    .dataframe tbody tr th:only-of-type {\n        vertical-align: middle;\n    }\n\n    .dataframe tbody tr th {\n        vertical-align: top;\n    }\n\n    .dataframe thead th {\n        text-align: right;\n    }\n</style>\n<table border=\"1\" class=\"dataframe\">\n  <thead>\n    <tr style=\"text-align: right;\">\n      <th></th>\n      <th>Unnamed: 0</th>\n      <th>City / Urban area</th>\n      <th>Country</th>\n      <th>Population</th>\n      <th>Land area (in sqKm)</th>\n      <th>Density</th>\n    </tr>\n  </thead>\n  <tbody>\n    <tr>\n      <th>75</th>\n      <td>75</td>\n      <td>Mumbai</td>\n      <td>India</td>\n      <td>14350000</td>\n      <td>484</td>\n      <td>29648.760331</td>\n    </tr>\n    <tr>\n      <th>74</th>\n      <td>74</td>\n      <td>Kolkata</td>\n      <td>India</td>\n      <td>12700000</td>\n      <td>531</td>\n      <td>23917.137476</td>\n    </tr>\n    <tr>\n      <th>101</th>\n      <td>101</td>\n      <td>Karachi</td>\n      <td>Pakistan</td>\n      <td>9800000</td>\n      <td>518</td>\n      <td>18918.918919</td>\n    </tr>\n    <tr>\n      <th>99</th>\n      <td>99</td>\n      <td>Lagos</td>\n      <td>Nigeria</td>\n      <td>13400000</td>\n      <td>738</td>\n      <td>18157.181572</td>\n    </tr>\n    <tr>\n      <th>34</th>\n      <td>34</td>\n      <td>Shenzhen</td>\n      <td>China</td>\n      <td>8000000</td>\n      <td>466</td>\n      <td>17167.381974</td>\n    </tr>\n    <tr>\n      <th>...</th>\n      <td>...</td>\n      <td>...</td>\n      <td>...</td>\n      <td>...</td>\n      <td>...</td>\n      <td>...</td>\n    </tr>\n    <tr>\n      <th>194</th>\n      <td>195</td>\n      <td>Chattanooga</td>\n      <td>USA</td>\n      <td>344000</td>\n      <td>751</td>\n      <td>458.055925</td>\n    </tr>\n    <tr>\n      <th>223</th>\n      <td>224</td>\n      <td>Asheville</td>\n      <td>USA</td>\n      <td>222000</td>\n      <td>536</td>\n      <td>414.179104</td>\n    </tr>\n    <tr>\n      <th>57</th>\n      <td>57</td>\n      <td>Pau</td>\n      <td>France</td>\n      <td>181000</td>\n      <td>450</td>\n      <td>402.222222</td>\n    </tr>\n    <tr>\n      <th>220</th>\n      <td>221</td>\n      <td>Hickory</td>\n      <td>USA</td>\n      <td>188000</td>\n      <td>546</td>\n      <td>344.322344</td>\n    </tr>\n    <tr>\n      <th>196</th>\n      <td>197</td>\n      <td>Barnstable Town</td>\n      <td>USA</td>\n      <td>244000</td>\n      <td>741</td>\n      <td>329.284750</td>\n    </tr>\n  </tbody>\n</table>\n<p>249 rows × 6 columns</p>\n</div>",
      "text/plain": "     Unnamed: 0 City / Urban area   Country  Population  Land area (in sqKm)  \\\n75           75            Mumbai     India    14350000                  484   \n74           74           Kolkata     India    12700000                  531   \n101         101           Karachi  Pakistan     9800000                  518   \n99           99             Lagos   Nigeria    13400000                  738   \n34           34          Shenzhen     China     8000000                  466   \n..          ...               ...       ...         ...                  ...   \n194         195       Chattanooga       USA      344000                  751   \n223         224         Asheville       USA      222000                  536   \n57           57               Pau    France      181000                  450   \n220         221           Hickory       USA      188000                  546   \n196         197   Barnstable Town       USA      244000                  741   \n\n          Density  \n75   29648.760331  \n74   23917.137476  \n101  18918.918919  \n99   18157.181572  \n34   17167.381974  \n..            ...  \n194    458.055925  \n223    414.179104  \n57     402.222222  \n220    344.322344  \n196    329.284750  \n\n[249 rows x 6 columns]"
     },
     "execution_count": 24,
     "metadata": {},
     "output_type": "execute_result"
    }
   ],
   "source": [
    "df.sort_values(by='Density', ascending=False)"
   ]
  }
 ]
}