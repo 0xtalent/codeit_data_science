{
 "nbformat": 4,
 "nbformat_minor": 2,
 "metadata": {
  "language_info": {
   "name": "python",
   "codemirror_mode": {
    "name": "ipython",
    "version": 3
   },
   "version": "3.7.3-final"
  },
  "orig_nbformat": 2,
  "file_extension": ".py",
  "mimetype": "text/x-python",
  "name": "python",
  "npconvert_exporter": "python",
  "pygments_lexer": "ipython3",
  "version": 3,
  "kernelspec": {
   "name": "python37364bita3e12f640f614f2090cd561a2944ef04",
   "display_name": "Python 3.7.3 64-bit"
  }
 },
 "cells": [
  {
   "cell_type": "code",
   "execution_count": 1,
   "metadata": {},
   "outputs": [],
   "source": [
    "# loc은 실제 인덱스값으로 데이터를 추출하고 iloc은 몇번째 줄인지에 따라 데이터를 추출합니다."
   ]
  },
  {
   "cell_type": "code",
   "execution_count": 2,
   "metadata": {},
   "outputs": [],
   "source": [
    "# 먼저 일반적인 프로그래밍에서 생각해보면,\n",
    "# 대부분 함수는 모두 ()라고 생각하면 됩니다.\n",
    "# 그리고 []은 보통 인덱싱과 관련된 경우일 때 사용합니다. (배열 인덱싱, 리스트 인덱싱 등등)\n",
    "# loc 함수 자체가 인덱싱을 위한 함수이기 때문에, 이 경우만 []로 표현하는 것 같아요.\n",
    "# 그래서 결론은, 데이터프레임, 리스트, Array 등의 인덱싱을 하려고 할 때 빼고는 다 ()를 쓰면 됩니다!"
   ]
  },
  {
   "cell_type": "code",
   "execution_count": 3,
   "metadata": {},
   "outputs": [],
   "source": [
    "# 먼저 데이터를 불러온 후, 인덱싱을 해서 값을 써주면 되겠죠.\n",
    "# df.loc[1,\"Weight (Pound)\"] = 200"
   ]
  },
  {
   "cell_type": "code",
   "execution_count": 4,
   "metadata": {},
   "outputs": [],
   "source": [
    "# row나 column을 삭제할 때는 drop 메소드를 사용하면 됩니다.\n",
    "# df.drop(21, axis=\"index\", inplace=True)"
   ]
  },
  {
   "cell_type": "code",
   "execution_count": 6,
   "metadata": {},
   "outputs": [],
   "source": [
    "# ID 20의 row를 인덱싱한 후, 키와 무게를 리스트에 넣어서 전달해줍니다.\n",
    "# df.loc[20] = [70,200]"
   ]
  }
 ]
}