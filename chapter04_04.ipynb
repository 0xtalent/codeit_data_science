{
 "nbformat": 4,
 "nbformat_minor": 2,
 "metadata": {
  "language_info": {
   "name": "python",
   "codemirror_mode": {
    "name": "ipython",
    "version": 3
   },
   "version": "3.7.3-final"
  },
  "orig_nbformat": 2,
  "file_extension": ".py",
  "mimetype": "text/x-python",
  "name": "python",
  "npconvert_exporter": "python",
  "pygments_lexer": "ipython3",
  "version": 3,
  "kernelspec": {
   "name": "python37364bita3e12f640f614f2090cd561a2944ef04",
   "display_name": "Python 3.7.3 64-bit"
  }
 },
 "cells": [
  {
   "cell_type": "code",
   "execution_count": 1,
   "metadata": {},
   "outputs": [],
   "source": [
    "# 데이터 변형하기\n",
    "# 05. 잘못된 DataFrame 고치기 2"
   ]
  },
  {
   "cell_type": "code",
   "execution_count": 2,
   "metadata": {},
   "outputs": [],
   "source": [
    "# 주어진 DataFrame에서 두 가지를 수정하면 됩니다.\n",
    "# 비만도' column을 추가하고, 모든 ID에 대해 '정상'으로 설정해주세요.\n",
    "# 'Gender' column의 값을 ID 0~10까지는 'Male' 11~20까지는 'Female'로 변경하세요."
   ]
  },
  {
   "cell_type": "code",
   "execution_count": 3,
   "metadata": {},
   "outputs": [],
   "source": [
    "# 새로운 column을 추가하려면, 다음과 같은 문법을 사용하면 됩니다.\n",
    "# df[\"비만도\"] = \"정상\""
   ]
  },
  {
   "cell_type": "code",
   "execution_count": 1,
   "metadata": {},
   "outputs": [],
   "source": [
    "# 0부터 10까지, 그리고 11부터 20까지를 어떻게 인덱싱할 수 있을까요? \n",
    "# 리스트 슬라이싱을 활용하면 됩니다.\n",
    "# df.loc[:10,\"Gender\"] = \"Male\"\n",
    "# df.loc[11:,\"Gender\"] = \"Female\""
   ]
  }
 ]
}